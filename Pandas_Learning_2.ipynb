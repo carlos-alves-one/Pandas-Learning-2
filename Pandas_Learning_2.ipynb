{
  "nbformat": 4,
  "nbformat_minor": 0,
  "metadata": {
    "colab": {
      "name": " Pandas-Learning-2.ipynb",
      "provenance": [],
      "collapsed_sections": [],
      "authorship_tag": "ABX9TyOMvv2urUkrEgHsqzzQwTbj",
      "include_colab_link": true
    },
    "kernelspec": {
      "name": "python3",
      "display_name": "Python 3"
    },
    "language_info": {
      "name": "python"
    }
  },
  "cells": [
    {
      "cell_type": "markdown",
      "metadata": {
        "id": "view-in-github",
        "colab_type": "text"
      },
      "source": [
        "<a href=\"https://colab.research.google.com/github/carlos-alves-one/-Pandas-Learning-2/blob/main/Pandas_Learning_2.ipynb\" target=\"_parent\"><img src=\"https://colab.research.google.com/assets/colab-badge.svg\" alt=\"Open In Colab\"/></a>"
      ]
    },
    {
      "cell_type": "markdown",
      "source": [
        "## Goldsmiths University of London\n",
        "**Author....: Carlos Manuel de Oliveira Alves**<br>\n",
        "**Student..: cdeol003**<br>\n",
        "**Created..: 28/08/2022**"
      ],
      "metadata": {
        "id": "YoKEC7oocS1a"
      }
    },
    {
      "cell_type": "code",
      "source": [
        "# import the libraries numpy and pandas\n",
        "import numpy as np\n",
        "import pandas as pd"
      ],
      "metadata": {
        "id": "-i0cj8jMcb6i"
      },
      "execution_count": 1,
      "outputs": []
    },
    {
      "cell_type": "markdown",
      "source": [
        "**DataFrames**"
      ],
      "metadata": {
        "id": "_umJVVXDfJDO"
      }
    },
    {
      "cell_type": "code",
      "source": [
        "# dataframe its basically a table\n",
        "\n",
        "# create a dataset of cars\n",
        "data = [\n",
        "    ['Nissan', 'Stanza', 1991, 138, 4, 'MANUAL', 'sedan', 2000],\n",
        "    ['Hyundai', 'Sonata', 2017, None, 4, 'AUTOMATIC', 'Sedan', 27150],\n",
        "    ['Lotus', 'Elise', 2010, 218, 4, 'MANUAL', 'convertible', 54990],\n",
        "    ['GMC', 'Acadia',  2017, 194, 4, 'AUTOMATIC', '4dr SUV', 34450],\n",
        "    ['Nissan', 'Frontier', 2017, 261, 6, 'MANUAL', 'Pickup', 32340],\n",
        "]\n",
        "\n",
        "columns = [\n",
        "    'Make', 'Model', 'Year', 'Engine HP', 'Engine Cylinders',\n",
        "    'Transmission Type', 'Vehicle_Style', 'MSRP'\n",
        "]"
      ],
      "metadata": {
        "id": "qBmKR8YqfMZa"
      },
      "execution_count": null,
      "outputs": []
    }
  ]
}